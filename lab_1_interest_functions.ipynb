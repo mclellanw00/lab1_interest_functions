{
  "cells": [
    {
      "cell_type": "markdown",
      "metadata": {
        "id": "view-in-github",
        "colab_type": "text"
      },
      "source": [
        "<a href=\"https://colab.research.google.com/github/mclellanw00/lab1_interest_functions/blob/master/lab_1_interest_functions.ipynb\" target=\"_parent\"><img src=\"https://colab.research.google.com/assets/colab-badge.svg\" alt=\"Open In Colab\"/></a>"
      ]
    },
    {
      "cell_type": "markdown",
      "metadata": {
        "id": "MZ6B6DOwuel1"
      },
      "source": [
        "## Lab 1 - Compound Interest Functions\n",
        "\n",
        "Below you will find a table of important formulae related to compound interest.  \n",
        "\n",
        "<img src=\"https://www.dummies.com/wp-content/uploads/251689.image0.jpg\" alt=\"image0.jpg\" width=\"400\" height=\"319\">\n",
        "\n",
        "In this lab, you will create functions for each of these using (and documenting) the following workflow.\n",
        "\n",
        "1. Work out the correct answer for a few examples. *Hint* Search for e.g. \"worked out compound interest examples\" on the web.\n",
        "2. Write a `lambda` function and test this function on your test cases.\n",
        "3. Convert the `lambda` function to a `def` statement with an informative doc string that follows the [Google formating rules](https://google.github.io/styleguide/pyguide.html#383-functions-and-methods).\n",
        "4. Write an automated test function (using your previous examples) that will test your `def` statement function each time the code is executed."
      ]
    },
    {
      "cell_type": "markdown",
      "metadata": {
        "id": "AI7H8xR6uel3"
      },
      "source": [
        "#### Problem 1 -- Apply the process to create a simple interest functions."
      ]
    },
    {
      "cell_type": "code",
      "execution_count": null,
      "metadata": {
        "id": "_N7OqeOXuel4",
        "outputId": "d368bd2a-3c0e-4a3c-90b0-0c2dea8e239c"
      },
      "outputs": [
        {
          "data": {
            "text/plain": [
              "'Your code here, insert more cells as needed'"
            ]
          },
          "execution_count": 1,
          "metadata": {},
          "output_type": "execute_result"
        }
      ],
      "source": [
        "\"Your code here, insert more cells as needed\""
      ]
    },
    {
      "cell_type": "markdown",
      "source": [
        "simple interest formulas = principal * interest rate * year"
      ],
      "metadata": {
        "id": "6twp60u7xgwN"
      }
    },
    {
      "cell_type": "code",
      "source": [
        "simpleinterest = lambda p, r, t: p*r*t"
      ],
      "metadata": {
        "id": "FMHmW5w_vzV1"
      },
      "execution_count": 2,
      "outputs": []
    },
    {
      "cell_type": "code",
      "source": [
        "simpleinterest(500, .04, 2)"
      ],
      "metadata": {
        "id": "JafRBTf70exT",
        "outputId": "cb0fe42c-1d50-4833-d971-f5de451f958f",
        "colab": {
          "base_uri": "https://localhost:8080/"
        }
      },
      "execution_count": null,
      "outputs": [
        {
          "output_type": "execute_result",
          "data": {
            "text/plain": [
              "40.0"
            ]
          },
          "metadata": {},
          "execution_count": 8
        }
      ]
    },
    {
      "cell_type": "code",
      "source": [
        "def simpleinterest(p, r, t):\n",
        "    \"\"\" Quick method for calculating the interst charge on a loan\n",
        "    \n",
        "    Args:\n",
        "        p: the principal or amount of money borrowed\n",
        "        r: interest rate (per year)\n",
        "        t: time (usually expressed in years)\n",
        "        \n",
        "    Returns:\n",
        "        The first deposit in a series of principal amounts\n",
        "    \"\"\"\n",
        "    simpleinterest = p*r*t\n",
        "    return simpleinterest\n",
        "\n",
        "def test_simpleinterest():\n",
        "    assert simpleinterest(500, .04, 2) == 40.0\n",
        "    #assert num_tile(0, 12) == 0\n",
        "test_simpleinterest()"
      ],
      "metadata": {
        "id": "PfIrHmM65uku"
      },
      "execution_count": 1,
      "outputs": []
    },
    {
      "cell_type": "markdown",
      "metadata": {
        "id": "ZCIjPdyjuel5"
      },
      "source": [
        "#### Problem 2 -- Apply the process to create a compound interest functions."
      ]
    },
    {
      "cell_type": "code",
      "execution_count": null,
      "metadata": {
        "id": "vuZ_t6-Ruel6"
      },
      "outputs": [],
      "source": [
        "\"Your code here, insert more cells as needed\""
      ]
    },
    {
      "cell_type": "code",
      "source": [
        "compoundinterest = lambda p, r, n, t: p*(1 + r/n)**(n*t)"
      ],
      "metadata": {
        "id": "xd1bGIGzSSVx"
      },
      "execution_count": null,
      "outputs": []
    },
    {
      "cell_type": "code",
      "source": [
        "compoundinterest(5000,.05,12,10)"
      ],
      "metadata": {
        "id": "DCFXcA4USqWL",
        "outputId": "29bbd94f-6da2-4de4-ed8b-eb592a8bbff0",
        "colab": {
          "base_uri": "https://localhost:8080/"
        }
      },
      "execution_count": null,
      "outputs": [
        {
          "output_type": "execute_result",
          "data": {
            "text/plain": [
              "8235.0474884514"
            ]
          },
          "metadata": {},
          "execution_count": 21
        }
      ]
    },
    {
      "cell_type": "markdown",
      "metadata": {
        "id": "9rYdHBpNuel6"
      },
      "source": [
        "#### Problem 3 -- Apply the process to create a amortized loan payment function."
      ]
    },
    {
      "cell_type": "code",
      "execution_count": null,
      "metadata": {
        "id": "qKAwXFgtuel6"
      },
      "outputs": [],
      "source": [
        "\"Your code here, insert more cells as needed\""
      ]
    },
    {
      "cell_type": "code",
      "source": [
        "amortizedloan = lambda p, i, n: ((p*i)/(1-(1+i)**n))"
      ],
      "metadata": {
        "id": "DjmS3KPmzBGC"
      },
      "execution_count": null,
      "outputs": []
    },
    {
      "cell_type": "code",
      "source": [
        "amortizedloan(1000, .02, 4)"
      ],
      "metadata": {
        "id": "sS7AObJh0Mhj",
        "outputId": "90b6b9e2-0d97-4383-f74f-73bb9d8121aa",
        "colab": {
          "base_uri": "https://localhost:8080/"
        }
      },
      "execution_count": null,
      "outputs": [
        {
          "output_type": "execute_result",
          "data": {
            "text/plain": [
              "-242.62375267128758"
            ]
          },
          "metadata": {},
          "execution_count": 23
        }
      ]
    },
    {
      "cell_type": "markdown",
      "metadata": {
        "id": "j0JEcPyruel6"
      },
      "source": [
        "#### Problem 4 -- Apply the process to create a remaining balance function"
      ]
    },
    {
      "cell_type": "code",
      "execution_count": null,
      "metadata": {
        "id": "yIrQepaCuel7"
      },
      "outputs": [],
      "source": [
        "\"Your code here, insert more cells as needed\""
      ]
    },
    {
      "cell_type": "code",
      "source": [
        "remainingbalance = lambda r, i, n, x: ((1-(1+1)**(n+x))/i)"
      ],
      "metadata": {
        "id": "GfNTbmVY0bJV"
      },
      "execution_count": null,
      "outputs": []
    },
    {
      "cell_type": "code",
      "source": [
        "remainingbalance(20, .04, 20, 10)"
      ],
      "metadata": {
        "id": "wq211LFJ47kK",
        "outputId": "bbb1e85f-ad73-4c24-ff35-006341fb7635",
        "colab": {
          "base_uri": "https://localhost:8080/"
        }
      },
      "execution_count": null,
      "outputs": [
        {
          "output_type": "execute_result",
          "data": {
            "text/plain": [
              "-26843545575.0"
            ]
          },
          "metadata": {},
          "execution_count": 22
        }
      ]
    },
    {
      "cell_type": "code",
      "source": [],
      "metadata": {
        "id": "cdGSL9B95D85"
      },
      "execution_count": null,
      "outputs": []
    }
  ],
  "metadata": {
    "kernelspec": {
      "display_name": "Python 3",
      "language": "python",
      "name": "python3"
    },
    "language_info": {
      "codemirror_mode": {
        "name": "ipython",
        "version": 3
      },
      "file_extension": ".py",
      "mimetype": "text/x-python",
      "name": "python",
      "nbconvert_exporter": "python",
      "pygments_lexer": "ipython3",
      "version": "3.7.2"
    },
    "colab": {
      "provenance": [],
      "include_colab_link": true
    }
  },
  "nbformat": 4,
  "nbformat_minor": 0
}